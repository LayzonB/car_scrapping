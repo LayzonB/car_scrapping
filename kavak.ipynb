{
 "cells": [
  {
   "cell_type": "code",
   "execution_count": 83,
   "metadata": {},
   "outputs": [],
   "source": [
    "import requests\n",
    "import urllib.request\n",
    "import time\n",
    "from bs4 import BeautifulSoup\n",
    "#from html.parser import HTMLParser\n",
    "from html import parser\n",
    "from time import sleep\n",
    "from random import randint\n",
    "import pandas as pd\n",
    "import numpy as np\n",
    "\n",
    "import time\n",
    "from selenium import webdriver\n",
    "from selenium.webdriver.chrome.options import Options\n",
    "from selenium.webdriver.common.by import By\n",
    "from selenium.webdriver.support.ui import WebDriverWait\n",
    "from selenium.webdriver.support import expected_conditions as EC\n",
    "from selenium.common.exceptions import TimeoutException\n"
   ]
  },
  {
   "cell_type": "code",
   "execution_count": 84,
   "metadata": {},
   "outputs": [],
   "source": [
    "#url = \"https://www.kavak.com/page-[\"+str(pages)+\"]compra-de-autos\"\n",
    "#response = requests.get(url)  # pages = np.arange(1, 293, 1)"
   ]
  },
  {
   "cell_type": "code",
   "execution_count": 87,
   "metadata": {},
   "outputs": [],
   "source": [
    "pages = np.arange(2,4,1)"
   ]
  },
  {
   "cell_type": "code",
   "execution_count": 88,
   "metadata": {},
   "outputs": [
    {
     "name": "stdout",
     "output_type": "stream",
     "text": [
      "https://www.kavak.com/page-2/compra-de-autos\n",
      "https://www.kavak.com/page-3/compra-de-autos\n"
     ]
    }
   ],
   "source": [
    "for page in pages:\n",
    "    print(\"https://www.kavak.com/page-{}/compra-de-autos\".format(page))"
   ]
  },
  {
   "cell_type": "code",
   "execution_count": 89,
   "metadata": {},
   "outputs": [],
   "source": [
    "carname = []\n",
    "carprice = []\n",
    "caryear = []\n",
    "cartransm = []\n",
    "carcity = []"
   ]
  },
  {
   "cell_type": "code",
   "execution_count": 91,
   "metadata": {},
   "outputs": [],
   "source": [
    "#option = Options()\n",
    "#option.add_argument(\"--incognito\")"
   ]
  },
  {
   "cell_type": "code",
   "execution_count": 92,
   "metadata": {},
   "outputs": [],
   "source": [
    "for page in pages:\n",
    "    driver = webdriver.Chrome('chromedriver')  # Optional argument, if not specified will search path.\n",
    "    driver.get(\"https://www.kavak.com/page-{}/compra-de-autos\".format(page))\n",
    "    time.sleep(5)\n",
    "    timeout = 10\n",
    "    try:\n",
    "        WebDriverWait(driver, timeout).until(EC.visibility_of_element_located((By.XPATH, \"//span[@class='xrfs-5 text-truncate text-white-1 line-normal']\")))\n",
    "    except TimeoutException:\n",
    "        print(\"Timed out waiting for page to load\")\n",
    "        driver.quit()\n",
    "    soup = BeautifulSoup(driver.page_source, 'html.parser')\n",
    "    #mydivs = soup.find_all(\"span\", {\"class\": \"xrfs-5 text-truncate text-white-1 line-normal\"})\n",
    "    mydivs = soup.find_all(\"div\", {\"class\": \"photos-car-info p-1\"})\n",
    "    for div in mydivs:\n",
    "        name = div.text\n",
    "        carname.append(name)\n",
    "        #la idea es que dentro de este loop puedo traer a cada lista el valor que corresponde nombre de carro en carname, precio en carprice y así\n",
    "    sleep(randint(20,25))\n",
    "    driver.quit()"
   ]
  },
  {
   "cell_type": "code",
   "execution_count": 93,
   "metadata": {},
   "outputs": [
    {
     "data": {
      "text/plain": [
       "' $194,999  Chevrolet Sonic LTZ (Cambio de línea)  2017  | Automática  Ciudad de México  Desde $3,793 mes '"
      ]
     },
     "execution_count": 93,
     "metadata": {},
     "output_type": "execute_result"
    }
   ],
   "source": [
    "mydia = soup.find_all(\"div\", {\"class\": \"photos-car-info p-1\"})\n",
    "mydia[0].text"
   ]
  },
  {
   "cell_type": "code",
   "execution_count": null,
   "metadata": {},
   "outputs": [],
   "source": [
    "\"\"\"\"\n",
    "Este debería ser el output, para poder luego unirlo en un diccionario\n",
    "carname = [\"Chevrolet Sonic LTZ\"]\n",
    "carprice = [\"$194,999\"]\n",
    "caryear = [\"2017\"]\n",
    "cartransm = [\"Automática\"]\n",
    "carcity = [\"Ciudad de México\"]\n",
    "\"\"\"\""
   ]
  },
  {
   "cell_type": "code",
   "execution_count": 94,
   "metadata": {},
   "outputs": [],
   "source": [
    "#prueba para sacar ciudad y año\n",
    "mydia = soup.find_all(\"span\", {\"class\":\"xrfs-2 text-white-1 line-normal\"})\n",
    "mydia\n",
    "B, C = mydia[::2], mydia[1::2]\n"
   ]
  },
  {
   "cell_type": "code",
   "execution_count": 95,
   "metadata": {},
   "outputs": [
    {
     "data": {
      "text/plain": [
       "[' $242,999  Audi A4 Sport  2013  | Automática  Ciudad de México  Desde $5,258 mes ',\n",
       " ' $122,999  Chevrolet Aveo LS  2016  | Manual  Ciudad de México  Desde $2,392 mes ',\n",
       " ' $277,999  BMW X3 28i  2013  | Automática  Ciudad de México  Desde $6,015 mes ',\n",
       " ' $354,999  Buick Encore Premium  2018  | Automática  Ciudad de México  Desde $6,905 mes ',\n",
       " ' $287,999  Mazda 3 Hatch Back S Grand Touring  2017  | Automática  Ciudad de México  Desde $5,602 mes ',\n",
       " ' $194,999  Chevrolet Trax LS  2015  | Manual  Ciudad de México  Desde $3,793 mes ',\n",
       " ' $214,999  Ford Eco Sport Trend  2016  | Automática  Ciudad de México  Desde $4,182 mes ',\n",
       " ' $637,999  Infiniti QX80  2017  | Automática  Ciudad de México  Desde $12,409 mes ',\n",
       " ' $469,999  Toyota Highlander Limited  2017  | Automática  Ciudad de México  Desde $9,142 mes ',\n",
       " ' $139,999  Nissan Sentra Sense  2013  | Automática  Ciudad de México  Desde $3,029 mes ',\n",
       " ' $199,999  Dodge Attitude SXT  2018  | Automática  Ciudad de México  Desde $3,890 mes ',\n",
       " ' $204,999  Mazda 2 Hatch Back i Grand Touring  2016  | Automática  Ciudad de México  Desde $3,987 mes ',\n",
       " ' $272,999  Mazda CX-5 I Grand Touring  2015  | Automática  Ciudad de México  Desde $5,310 mes ',\n",
       " ' $359,999  Jeep Grand Cherokee Limited Lujo  2014  | Automática  Ciudad de México  Desde $6,329 mes ',\n",
       " ' $149,999  Nissan Versa Drive  2017  | Manual  Ciudad de México  Desde $2,918 mes ',\n",
       " ' $339,999  Audi A1 Sportback Hatch Back Ego  2018  | Automática  Ciudad de México  Desde $6,613 mes ',\n",
       " ' $382,999  Jeep Grand Cherokee Limited  2015  | Automática  Ciudad de México  Desde $7,449 mes ',\n",
       " ' $222,999  Honda Fit HB Fun  2017  | Automática  Ciudad de México  Desde $4,337 mes ',\n",
       " ' $207,999  Chevrolet Trax LT (Línea anterior)  2016  | Automática  Ciudad de México  Desde $4,046 mes ',\n",
       " ' $259,999  Renault Duster Intens  2019  | Manual  Ciudad de México  Desde $5,057 mes ',\n",
       " ' $159,999  Fiat Mobi Hatch Back Way  2018  | Manual  Ciudad de México  Desde $3,112 mes ',\n",
       " ' $277,999  Honda CR-V I Style  2015  | Automática  Ciudad de México  Desde $5,407 mes ',\n",
       " ' $339,999  KIA Sorento EX  2016  | Automática  Ciudad de México  Desde $6,613 mes ',\n",
       " ' $207,999  Toyota Corolla Base  2016  | Manual  Ciudad de México  Desde $4,046 mes ',\n",
       " ' $472,999  Mini Cooper Convertible JCW Hot Chili  2017  | Automática  Ciudad de México  Desde $9,200 mes ',\n",
       " ' $232,999  Chevrolet Spark Hatch Back Premier (Cambio de línea)  2019  | Automática  Ciudad de México  Desde $4,532 mes ',\n",
       " ' $174,999  Nissan Rogue Advance  2013  | Automática  Ciudad de México  Desde $3,787 mes ',\n",
       " ' $309,999  Mercedes Benz Clase CLA Coupe CLA180 CGI  2016  | Automática  Ciudad de México  Desde $6,030 mes ',\n",
       " ' $189,999  Volkswagen Polo Hatch Back 1.6l  2016  | Automática  Ciudad de México  Desde $3,696 mes ',\n",
       " ' $259,999  Nissan Kicks Advance  2017  | Automática  Ciudad de México  Desde $5,057 mes ',\n",
       " ' $194,999  Chevrolet Sonic LTZ (Cambio de línea)  2017  | Automática  Ciudad de México  Desde $3,793 mes ',\n",
       " ' $252,999  Nissan X Trail Sense  2016  | Automática  Ciudad de México  Desde $4,921 mes ',\n",
       " ' $492,999  Cadillac XT5 Platinum  2017  | Automática  Ciudad de México  Desde $9,589 mes ',\n",
       " ' $282,999  Nissan Sentra Exclusive  2018  | Automática  Ciudad de México  Desde $5,504 mes ',\n",
       " ' $307,999  Volvo S60 T4 Addition  2017  | Automática  Ciudad de México  Desde $5,991 mes ',\n",
       " ' $167,999  Seat Ibiza Blitz  2015  | Manual  Ciudad de México  Desde $3,268 mes ',\n",
       " ' $224,999  Toyota Yaris Core  2019  | Manual  Ciudad de México  Desde $4,376 mes ',\n",
       " ' $237,999  Mazda CX-5 i Sport  2015  | Automática  Ciudad de México  Desde $4,629 mes ',\n",
       " ' $212,999  Honda Fit HB Fun  2017  | Automática  Ciudad de México  Desde $4,143 mes ',\n",
       " ' $272,999  Honda CR-V I Style  2015  | Automática  Ciudad de México  Desde $5,310 mes ',\n",
       " ' $384,999  Honda CR-V Turbo Plus  2017  | Automática  Ciudad de México  Desde $7,488 mes ',\n",
       " ' $199,999  Mazda 2 Hatch Back I Touring  2017  | Manual  Ciudad de México  Desde $3,890 mes ',\n",
       " ' $184,999  Volkswagen Jetta A6 2.0l  2016  | Manual  Ciudad de México  Desde $3,598 mes ',\n",
       " ' $334,999  Toyota C-HR Base  2018  | Automática  Ciudad de México  Desde $6,516 mes ',\n",
       " ' $214,999  Volkswagen Golf A7 Hatch Back Trendline  2016  | Manual  Ciudad de México  Desde $4,182 mes ',\n",
       " ' $262,999  Nissan Kicks Advance  2017  | Automática  Ciudad de México  Desde $5,115 mes ',\n",
       " ' $322,999  Toyota Prius Premiun Híbrido Sedan  2017  Ciudad de México  Desde $6,282 mes ',\n",
       " ' $139,999  Chevrolet Spark Hatch Back LTZ Clásico  2017  | Manual  Ciudad de México  Desde $2,723 mes ',\n",
       " ' $274,999  Nissan X Trail Sense  2017  | Automática  Ciudad de México  Desde $5,349 mes ',\n",
       " ' $159,999  Chevrolet Sonic LTZ (Línea anterior)  2016  | Automática  Ciudad de México  Desde $3,112 mes ',\n",
       " ' $197,999  Nissan Versa Advance  2018  | Manual  Ciudad de México  Desde $3,851 mes ',\n",
       " ' $312,999  Volkswagen Jetta A7 Trendline  2019  | Automática  Ciudad de México  Desde $6,088 mes ',\n",
       " ' $454,999  Infiniti Q50 Híbrido  2017  | Automática  Ciudad de México  Desde $8,850 mes ',\n",
       " ' $604,999  Nissan 370Z Nismo  2018  | Automática  Ciudad de México  Desde $11,767 mes ',\n",
       " ' $347,999  Seat Leon FR  2018  | Automática  Ciudad de México  Desde $6,769 mes ',\n",
       " ' $612,999  Infiniti QX60 Híbrido  2017  | Automática  Ciudad de México  Desde $11,923 mes ',\n",
       " ' $562,999  Audi A5 Sportback Select  2018  | Automática  Ciudad de México  Desde $10,950 mes ',\n",
       " ' $197,999  Toyota Corolla LE  2015  | Automática  Ciudad de México  Desde $3,851 mes ',\n",
       " ' $197,999  Dodge Attitude SXT  2019  | Manual  Ciudad de México  Desde $3,851 mes ',\n",
       " ' $662,999  KIA Sedona SXL  2019  | Automática  Ciudad de México  Desde $12,895 mes ']"
      ]
     },
     "execution_count": 95,
     "metadata": {},
     "output_type": "execute_result"
    }
   ],
   "source": [
    "carname"
   ]
  },
  {
   "cell_type": "code",
   "execution_count": null,
   "metadata": {},
   "outputs": [],
   "source": []
  },
  {
   "cell_type": "code",
   "execution_count": 96,
   "metadata": {},
   "outputs": [
    {
     "data": {
      "text/plain": [
       "' $252,999 '"
      ]
     },
     "execution_count": 96,
     "metadata": {},
     "output_type": "execute_result"
    }
   ],
   "source": [
    "#prueba traer el precio\n",
    "soup.find_all(\"h3\")[1].string"
   ]
  },
  {
   "cell_type": "code",
   "execution_count": null,
   "metadata": {},
   "outputs": [],
   "source": []
  }
 ],
 "metadata": {
  "kernelspec": {
   "display_name": "Python 3",
   "language": "python",
   "name": "python3"
  },
  "language_info": {
   "codemirror_mode": {
    "name": "ipython",
    "version": 3
   },
   "file_extension": ".py",
   "mimetype": "text/x-python",
   "name": "python",
   "nbconvert_exporter": "python",
   "pygments_lexer": "ipython3",
   "version": "3.8.3"
  }
 },
 "nbformat": 4,
 "nbformat_minor": 4
}
